{
 "cells": [
  {
   "cell_type": "code",
   "execution_count": 2,
   "id": "85955992",
   "metadata": {},
   "outputs": [
    {
     "ename": "FileExistsError",
     "evalue": "[WinError 183] Não é possível criar um arquivo já existente: 'ipynb'",
     "output_type": "error",
     "traceback": [
      "\u001b[1;31m---------------------------------------------------------------------------\u001b[0m",
      "\u001b[1;31mFileExistsError\u001b[0m                           Traceback (most recent call last)",
      "\u001b[1;32mC:\\Users\\NILTON~1.LIM\\AppData\\Local\\Temp/ipykernel_7740/4250846998.py\u001b[0m in \u001b[0;36m<module>\u001b[1;34m\u001b[0m\n\u001b[0;32m     15\u001b[0m \u001b[1;33m\u001b[0m\u001b[0m\n\u001b[0;32m     16\u001b[0m \u001b[1;32mfor\u001b[0m \u001b[0mfile_type\u001b[0m \u001b[1;32min\u001b[0m \u001b[0mtypes\u001b[0m\u001b[1;33m:\u001b[0m\u001b[1;33m\u001b[0m\u001b[1;33m\u001b[0m\u001b[0m\n\u001b[1;32m---> 17\u001b[1;33m     \u001b[0mos\u001b[0m\u001b[1;33m.\u001b[0m\u001b[0mmkdir\u001b[0m\u001b[1;33m(\u001b[0m\u001b[0mfile_type\u001b[0m\u001b[1;33m)\u001b[0m\u001b[1;33m\u001b[0m\u001b[1;33m\u001b[0m\u001b[0m\n\u001b[0m\u001b[0;32m     18\u001b[0m \u001b[1;33m\u001b[0m\u001b[0m\n\u001b[0;32m     19\u001b[0m \u001b[1;32mfor\u001b[0m \u001b[0mfile\u001b[0m \u001b[1;32min\u001b[0m \u001b[0mfiles_list\u001b[0m\u001b[1;33m:\u001b[0m\u001b[1;33m\u001b[0m\u001b[1;33m\u001b[0m\u001b[0m\n",
      "\u001b[1;31mFileExistsError\u001b[0m: [WinError 183] Não é possível criar um arquivo já existente: 'ipynb'"
     ]
    }
   ],
   "source": [
    "#Importando a biblioteca\n",
    "import os\n",
    "\n",
    "#Pegando o path atual\n",
    "cwd = os.getcwd()\n",
    "\n",
    "#Pegando todos os itens do path da variável cwd\n",
    "full_list = os.listdir(cwd)\n",
    "\n",
    "#Verificando todos itens da lista e se eles tem a terminação .py\n",
    "files_list = [i for i in full_list if os.path.isfile(i) and 'py' and 'ypynb']\n",
    "\n",
    "#Pegando todas as terminações\n",
    "types = list(set([i.split('.')[1] for i in files_list]))\n",
    "\n",
    "#Criando as pastas de acordo com as terminações\n",
    "for file_type in types:\n",
    "    os.mkdir(file_type)\n",
    "\n",
    "#Enviando arquivos para as pastas\n",
    "for file in files_list:\n",
    "    from_path = os.path.join(cwd, file)\n",
    "    to_path = os.path.join (cwd,file.split('.')[1], file)\n",
    "\n",
    "    os.replace(from_path, to_path)"
   ]
  },
  {
   "cell_type": "code",
   "execution_count": null,
   "id": "2ed7e7c2",
   "metadata": {},
   "outputs": [],
   "source": []
  }
 ],
 "metadata": {
  "kernelspec": {
   "display_name": "Python 3 (ipykernel)",
   "language": "python",
   "name": "python3"
  },
  "language_info": {
   "codemirror_mode": {
    "name": "ipython",
    "version": 3
   },
   "file_extension": ".py",
   "mimetype": "text/x-python",
   "name": "python",
   "nbconvert_exporter": "python",
   "pygments_lexer": "ipython3",
   "version": "3.9.7"
  }
 },
 "nbformat": 4,
 "nbformat_minor": 5
}
